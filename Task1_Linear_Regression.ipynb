# Task-1: To Explore Supervised Machine Learning
# In this regression task we will predict the percentage of marks that a student is expected to score based upon the number of hours they studied.
# This is a simple linear regression task as it involves just two variables.

# Importing necessary libraries
import numpy as np
import pandas as pd
import matplotlib.pyplot as plt
from sklearn.model_selection import train_test_split
from sklearn.linear_model import LinearRegression
from sklearn import metrics

# Ensuring plots are displayed inline
%matplotlib inline

# Loading the dataset
data = pd.read_csv('marks_data.csv')

# Displaying the first few rows of the dataset
print(data.head())

# Displaying information about the dataset
print(data.info())

# Describing the dataset
print(data.describe())

# Checking the shape of the dataset
print(data.shape)

# Checking the relation between Independent and Target Variable
plt.scatter(data['Hours'], data['Scores'])
plt.xlabel("Number of Hours")
plt.ylabel("Scores")
plt.title("Hours vs Scores")
plt.show()

# Observation: We can clearly notice that Number of Hours studied is linearly related to the Scores of the student.

# Splitting the data for training and testing
X_train, X_test, y_train, y_test = train_test_split(data['Hours'].values.reshape(-1, 1), data['Scores'], test_size=0.2, random_state=42)

# Checking the shapes of the train and test sets
print(X_train.shape, y_train.shape, X_test.shape, y_test.shape)

# Training the Linear Regression Model
model = LinearRegression()
model.fit(X_train, y_train)

# Plotting the predicted line
coefficient = model.coef_
intercept = model.intercept_

# Since y = m*x + c
line = (data['Hours'].values * coefficient) + intercept

plt.scatter(data.Hours, data.Scores)
plt.plot(data.Hours, line)
plt.xlabel("Number of Hours")
plt.ylabel("Scores")
plt.title("Regression Line")
plt.show()

# Making predictions
pred = model.predict(X_test)
print("Predicted values: ", pred)

# Comparing Actual and Predicted Values
pred_compare = pd.DataFrame({'Actual Values': y_test, 'Predicted Values': pred})
print(pred_compare)

# Evaluating the Model
print("Mean Absolute Error: ", metrics.mean_absolute_error(y_test, pred))
print("Mean Squared Error: ", metrics.mean_squared_error(y_test, pred))
print("Root Mean Squared Error: ", metrics.mean_squared_error(y_test, pred)**0.5)
print("R2 Score: ", metrics.r2_score(y_test, pred))

# What will be predicted score if a student study for 9.25 hrs in a day?
hours = np.asarray(9.25).reshape(-1, 1)
predicted_score = model.predict(hours)[0]
print(f"The predicted score if a student studies for 9.25 hrs in a day is: {predicted_score:.2f}")
